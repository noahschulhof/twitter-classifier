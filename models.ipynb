{
 "cells": [
  {
   "cell_type": "code",
   "execution_count": 1,
   "metadata": {},
   "outputs": [],
   "source": [
    "import pandas as pd\n",
    "import numpy as np\n",
    "import matplotlib.pyplot as plt\n",
    "from sklearn.neighbors import KNeighborsClassifier\n",
    "from sklearn.model_selection import cross_val_score\n",
    "from sklearn.metrics import accuracy_score, precision_score, recall_score\n",
    "from sklearn.linear_model import LogisticRegressionCV\n",
    "from sklearn.svm import LinearSVC\n",
    "from sklearn.ensemble import RandomForestClassifier\n",
    "from naive_bayes import NaiveBayesClassifier"
   ]
  },
  {
   "cell_type": "code",
   "execution_count": 4,
   "metadata": {},
   "outputs": [],
   "source": [
    "x_train_scaled = pd.read_csv('cleaned/x_train.csv', header = None)\n",
    "x_test_scaled = pd.read_csv('cleaned/x_test.csv', header = None)\n",
    "\n",
    "y_train = pd.read_csv('cleaned/y_train.csv')\n",
    "y_test = pd.read_csv('cleaned/y_test.csv')"
   ]
  },
  {
   "cell_type": "markdown",
   "metadata": {},
   "source": [
    "## K-Nearest Neighbors"
   ]
  },
  {
   "cell_type": "code",
   "execution_count": null,
   "metadata": {},
   "outputs": [],
   "source": [
    "ks = np.arange(1, 11)\n",
    "\n",
    "knn_cv_scores = []\n",
    "knn_test_scores = []\n",
    "\n",
    "for k in ks:\n",
    "    knn = KNeighborsClassifier(n_neighbors = k)\n",
    "    knn_cv_scores.append(cross_val_score(knn, x_train_scaled, y_train, cv = 10, scoring = 'accuracy'))\n",
    "\n",
    "    knn.fit(x_train_scaled, y_train)\n",
    "    knn_test_scores.append(accuracy_score(y_test, knn.predict(x_test_scaled)))"
   ]
  },
  {
   "cell_type": "code",
   "execution_count": null,
   "metadata": {},
   "outputs": [],
   "source": [
    "plt.plot(ks, np.array(knn_cv_scores).mean(axis = 1))\n",
    "plt.plot(ks, knn_test_scores)"
   ]
  },
  {
   "cell_type": "markdown",
   "metadata": {},
   "source": [
    "## Linear Support Vector Machine"
   ]
  },
  {
   "cell_type": "code",
   "execution_count": null,
   "metadata": {},
   "outputs": [],
   "source": [
    "Cs = np.logspace(-2, 0, 10)\n",
    "\n",
    "svm_cv_scores = []\n",
    "svm_test_scores = []\n",
    "\n",
    "for C in Cs:\n",
    "    svm = LinearSVC(C = C, random_state = 1, max_iter = 2000)\n",
    "    svm_cv_scores.append(cross_val_score(svm, x_train_scaled, y_train, cv = 10, scoring = 'accuracy'))\n",
    "\n",
    "    svm.fit(x_train_scaled, y_train)\n",
    "    svm_test_scores.append(accuracy_score(y_test, svm.predict(x_test_scaled)))"
   ]
  },
  {
   "cell_type": "code",
   "execution_count": null,
   "metadata": {},
   "outputs": [],
   "source": [
    "plt.plot(Cs, np.array(svm_cv_scores).mean(axis = 1))\n",
    "plt.plot(Cs, svm_test_scores)"
   ]
  },
  {
   "cell_type": "markdown",
   "metadata": {},
   "source": [
    "## Random Forest Classifier"
   ]
  },
  {
   "cell_type": "code",
   "execution_count": null,
   "metadata": {},
   "outputs": [],
   "source": [
    "ns = np.linspace(100, 1000, 10)\n",
    "\n",
    "rfc_cv_scores = []\n",
    "rfc_test_scores = []\n",
    "\n",
    "for n in ns:\n",
    "    rfc = RandomForestClassifier(n_estimators = int(n), random_state = 1, n_jobs = -1)\n",
    "    rfc_cv_scores.append(cross_val_score(rfc, x_train_scaled, y_train, cv = 5, scoring = 'accuracy'))\n",
    "\n",
    "    rfc.fit(x_train_scaled, y_train)\n",
    "    rfc_test_scores.append(accuracy_score(y_test, rfc.predict(x_test_scaled)))"
   ]
  },
  {
   "cell_type": "code",
   "execution_count": null,
   "metadata": {},
   "outputs": [],
   "source": [
    "plt.plot(ns, np.array(rfc_cv_scores).mean(axis = 1))\n",
    "plt.plot(ns, rfc_test_scores)"
   ]
  },
  {
   "cell_type": "markdown",
   "metadata": {},
   "source": [
    "## Logistic Regression"
   ]
  },
  {
   "cell_type": "code",
   "execution_count": null,
   "metadata": {},
   "outputs": [],
   "source": [
    "Cs = np.logspace(-2, -1, 100)\n",
    "\n",
    "lreg = LogisticRegressionCV(Cs = Cs, random_state = 1).fit(x_train_scaled, y_train)"
   ]
  },
  {
   "cell_type": "code",
   "execution_count": null,
   "metadata": {},
   "outputs": [],
   "source": [
    "accuracy_score(y_test, lreg.predict(x_test_scaled))"
   ]
  },
  {
   "cell_type": "markdown",
   "metadata": {},
   "source": [
    "## Bag-of-words Naive Bayes Classifier"
   ]
  },
  {
   "cell_type": "code",
   "execution_count": 2,
   "metadata": {},
   "outputs": [
    {
     "data": {
      "text/plain": [
       "9953    0\n",
       "3850    0\n",
       "4962    0\n",
       "3886    1\n",
       "5437    1\n",
       "       ..\n",
       "3919    0\n",
       "162     1\n",
       "7903    0\n",
       "2242    1\n",
       "2745    1\n",
       "Name: text, Length: 2000, dtype: int64"
      ]
     },
     "execution_count": 2,
     "metadata": {},
     "output_type": "execute_result"
    }
   ],
   "source": [
    "nbc = NaiveBayesClassifier('tweets/tweets_10k.csv')\n",
    "\n",
    "nbc.train()"
   ]
  },
  {
   "cell_type": "code",
   "execution_count": 8,
   "metadata": {},
   "outputs": [
    {
     "data": {
      "text/plain": [
       "0.7"
      ]
     },
     "execution_count": 8,
     "metadata": {},
     "output_type": "execute_result"
    }
   ],
   "source": [
    "accuracy_score(y_test, nbc.predict())"
   ]
  }
 ],
 "metadata": {
  "kernelspec": {
   "display_name": "anaconda3",
   "language": "python",
   "name": "python3"
  },
  "language_info": {
   "codemirror_mode": {
    "name": "ipython",
    "version": 3
   },
   "file_extension": ".py",
   "mimetype": "text/x-python",
   "name": "python",
   "nbconvert_exporter": "python",
   "pygments_lexer": "ipython3",
   "version": "3.11.6"
  }
 },
 "nbformat": 4,
 "nbformat_minor": 2
}
